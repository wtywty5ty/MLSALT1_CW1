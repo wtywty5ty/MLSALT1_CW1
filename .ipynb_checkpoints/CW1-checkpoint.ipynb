{
 "cells": [
  {
   "cell_type": "code",
   "execution_count": 2,
   "metadata": {},
   "outputs": [
    {
     "data": {
      "image/png": "[encoded data removed]",
      "text/plain": [
       "<matplotlib.figure.Figure at 0x10c276f60>"
      ]
     },
     "metadata": {},
     "output_type": "display_data"
    }
   ],
   "source": [
    "import numpy as np\n",
    "from DataPlot import *\n",
    "%matplotlib inline\n",
    "\n",
    "X = np.loadtxt('X.txt')\n",
    "y = np.loadtxt('y.txt')\n",
    "\n",
    "# visualize the dataset\n",
    "plot_data(X, y)\n",
    "\n"
   ]
  },
  {
   "cell_type": "code",
   "execution_count": 3,
   "metadata": {
    "collapsed": true
   },
   "outputs": [],
   "source": [
    "yin = y.reshape(1000, 1)\n",
    "Xin = np.concatenate((np.ones((X.shape[0], 1)), X), axis=1)\n",
    "\n",
    "\n",
    "# split the dataset into training and test sets\n",
    "indices=np.random.permutation(X.shape[0])\n",
    "train_id, test_id = indices[:800], indices[800:]\n",
    "X_train, X_test = Xin[train_id, :], X[test_id, :]\n",
    "y_train, y_test = yin[train_id], y[test_id]"
   ]
  },
  {
   "cell_type": "code",
   "execution_count": 7,
   "metadata": {},
   "outputs": [],
   "source": [
    "# define functions for training\n",
    "\n",
    "def sigmoid(w, X):\n",
    "    return 1.0 / (1 + np.exp(-np.dot(X, w)))\n",
    "\n",
    "def gradAscent(dataset, label, weights, learnRate):\n",
    "    s = sigmoid(weights, dataset)\n",
    "    gradient = np.dot(dataset.T, np.subtract(label, s))\n",
    "    weights = weights + learnRate * gradient\n",
    "    return weights\n",
    "\n",
    "\n",
    "def train(dataset, label, learnRate, iterations):\n",
    "    weights = np.ones((3, 1)) # initial weights\n",
    "    record = np.zeros((iterations,3))\n",
    "    for i in range(iterations):\n",
    "        weights = gradAscent(dataset, label, weights, learnRate)\n",
    "        record[i] = weights.T\n",
    "    return weights, record\n",
    "\n",
    "def logLikelihood(dataset, label, record):\n",
    "    ll = np.zeros(record.shape[0])\n",
    "    for i in range(record.shape[0]):\n",
    "        ll[i] = np.mean(np.abs(label - 1 + sigmoid(record[i, :].T, dataset)))\n",
    "    return ll\n"
   ]
  },
  {
   "cell_type": "code",
   "execution_count": 9,
   "metadata": {},
   "outputs": [
    {
     "data": {
      "text/plain": [
       "array([ 0.50025183,  0.49970043,  0.50033047,  0.49960307,  0.50043376,\n",
       "        0.49955405,  0.50045541,  0.49955588,  0.50044941,  0.49955543,\n",
       "        0.50045103,  0.49955555,  0.50045064,  0.49955553,  0.50045074,\n",
       "        0.49955553,  0.50045071,  0.49955553,  0.50045072,  0.49955553,\n",
       "        0.50045072,  0.49955553,  0.50045072,  0.49955553,  0.50045072,\n",
       "        0.49955553,  0.50045072,  0.49955553,  0.50045072,  0.49955553,\n",
       "        0.50045072,  0.49955553,  0.50045072,  0.49955553,  0.50045072,\n",
       "        0.49955553,  0.50045072,  0.49955553,  0.50045072,  0.49955553,\n",
       "        0.50045072,  0.49955553,  0.50045072,  0.49955553,  0.50045072,\n",
       "        0.49955553,  0.50045072,  0.49955553,  0.50045072,  0.49955553,\n",
       "        0.50045072,  0.49955553,  0.50045072,  0.49955553,  0.50045072,\n",
       "        0.49955553,  0.50045072,  0.49955553,  0.50045072,  0.49955553,\n",
       "        0.50045072,  0.49955553,  0.50045072,  0.49955553,  0.50045072,\n",
       "        0.49955553,  0.50045072,  0.49955553,  0.50045072,  0.49955553,\n",
       "        0.50045072,  0.49955553,  0.50045072,  0.49955553,  0.50045072,\n",
       "        0.49955553,  0.50045072,  0.49955553,  0.50045072,  0.49955553,\n",
       "        0.50045072,  0.49955553,  0.50045072,  0.49955553,  0.50045072,\n",
       "        0.49955553,  0.50045072,  0.49955553,  0.50045072,  0.49955553,\n",
       "        0.50045072,  0.49955553,  0.50045072,  0.49955553,  0.50045072,\n",
       "        0.49955553,  0.50045072,  0.49955553,  0.50045072,  0.49955553,\n",
       "        0.50045072,  0.49955553,  0.50045072,  0.49955553,  0.50045072,\n",
       "        0.49955553,  0.50045072,  0.49955553,  0.50045072,  0.49955553,\n",
       "        0.50045072,  0.49955553,  0.50045072,  0.49955553,  0.50045072,\n",
       "        0.49955553,  0.50045072,  0.49955553,  0.50045072,  0.49955553,\n",
       "        0.50045072,  0.49955553,  0.50045072,  0.49955553,  0.50045072,\n",
       "        0.49955553,  0.50045072,  0.49955553,  0.50045072,  0.49955553,\n",
       "        0.50045072,  0.49955553,  0.50045072,  0.49955553,  0.50045072,\n",
       "        0.49955553,  0.50045072,  0.49955553,  0.50045072,  0.49955553,\n",
       "        0.50045072,  0.49955553,  0.50045072,  0.49955553,  0.50045072,\n",
       "        0.49955553,  0.50045072,  0.49955553,  0.50045072,  0.49955553,\n",
       "        0.50045072,  0.49955553,  0.50045072,  0.49955553,  0.50045072,\n",
       "        0.49955553,  0.50045072,  0.49955553,  0.50045072,  0.49955553,\n",
       "        0.50045072,  0.49955553,  0.50045072,  0.49955553,  0.50045072,\n",
       "        0.49955553,  0.50045072,  0.49955553,  0.50045072,  0.49955553,\n",
       "        0.50045072,  0.49955553,  0.50045072,  0.49955553,  0.50045072,\n",
       "        0.49955553,  0.50045072,  0.49955553,  0.50045072,  0.49955553,\n",
       "        0.50045072,  0.49955553,  0.50045072,  0.49955553,  0.50045072,\n",
       "        0.49955553,  0.50045072,  0.49955553,  0.50045072,  0.49955553,\n",
       "        0.50045072,  0.49955553,  0.50045072,  0.49955553,  0.50045072,\n",
       "        0.49955553,  0.50045072,  0.49955553,  0.50045072,  0.49955553,\n",
       "        0.50045072,  0.49955553,  0.50045072,  0.49955553,  0.50045072,\n",
       "        0.49955553,  0.50045072,  0.49955553,  0.50045072,  0.49955553,\n",
       "        0.50045072,  0.49955553,  0.50045072,  0.49955553,  0.50045072,\n",
       "        0.49955553,  0.50045072,  0.49955553,  0.50045072,  0.49955553,\n",
       "        0.50045072,  0.49955553,  0.50045072,  0.49955553,  0.50045072,\n",
       "        0.49955553,  0.50045072,  0.49955553,  0.50045072,  0.49955553,\n",
       "        0.50045072,  0.49955553,  0.50045072,  0.49955553,  0.50045072,\n",
       "        0.49955553,  0.50045072,  0.49955553,  0.50045072,  0.49955553,\n",
       "        0.50045072,  0.49955553,  0.50045072,  0.49955553,  0.50045072,\n",
       "        0.49955553,  0.50045072,  0.49955553,  0.50045072,  0.49955553,\n",
       "        0.50045072,  0.49955553,  0.50045072,  0.49955553,  0.50045072,\n",
       "        0.49955553,  0.50045072,  0.49955553,  0.50045072,  0.49955553,\n",
       "        0.50045072,  0.49955553,  0.50045072,  0.49955553,  0.50045072,\n",
       "        0.49955553,  0.50045072,  0.49955553,  0.50045072,  0.49955553,\n",
       "        0.50045072,  0.49955553,  0.50045072,  0.49955553,  0.50045072,\n",
       "        0.49955553,  0.50045072,  0.49955553,  0.50045072,  0.49955553,\n",
       "        0.50045072,  0.49955553,  0.50045072,  0.49955553,  0.50045072,\n",
       "        0.49955553,  0.50045072,  0.49955553,  0.50045072,  0.49955553,\n",
       "        0.50045072,  0.49955553,  0.50045072,  0.49955553,  0.50045072,\n",
       "        0.49955553,  0.50045072,  0.49955553,  0.50045072,  0.49955553,\n",
       "        0.50045072,  0.49955553,  0.50045072,  0.49955553,  0.50045072,\n",
       "        0.49955553,  0.50045072,  0.49955553,  0.50045072,  0.49955553,\n",
       "        0.50045072,  0.49955553,  0.50045072,  0.49955553,  0.50045072,\n",
       "        0.49955553,  0.50045072,  0.49955553,  0.50045072,  0.49955553,\n",
       "        0.50045072,  0.49955553,  0.50045072,  0.49955553,  0.50045072,\n",
       "        0.49955553,  0.50045072,  0.49955553,  0.50045072,  0.49955553,\n",
       "        0.50045072,  0.49955553,  0.50045072,  0.49955553,  0.50045072,\n",
       "        0.49955553,  0.50045072,  0.49955553,  0.50045072,  0.49955553,\n",
       "        0.50045072,  0.49955553,  0.50045072,  0.49955553,  0.50045072,\n",
       "        0.49955553,  0.50045072,  0.49955553,  0.50045072,  0.49955553,\n",
       "        0.50045072,  0.49955553,  0.50045072,  0.49955553,  0.50045072,\n",
       "        0.49955553,  0.50045072,  0.49955553,  0.50045072,  0.49955553,\n",
       "        0.50045072,  0.49955553,  0.50045072,  0.49955553,  0.50045072,\n",
       "        0.49955553,  0.50045072,  0.49955553,  0.50045072,  0.49955553,\n",
       "        0.50045072,  0.49955553,  0.50045072,  0.49955553,  0.50045072,\n",
       "        0.49955553,  0.50045072,  0.49955553,  0.50045072,  0.49955553,\n",
       "        0.50045072,  0.49955553,  0.50045072,  0.49955553,  0.50045072,\n",
       "        0.49955553,  0.50045072,  0.49955553,  0.50045072,  0.49955553,\n",
       "        0.50045072,  0.49955553,  0.50045072,  0.49955553,  0.50045072,\n",
       "        0.49955553,  0.50045072,  0.49955553,  0.50045072,  0.49955553,\n",
       "        0.50045072,  0.49955553,  0.50045072,  0.49955553,  0.50045072,\n",
       "        0.49955553,  0.50045072,  0.49955553,  0.50045072,  0.49955553,\n",
       "        0.50045072,  0.49955553,  0.50045072,  0.49955553,  0.50045072,\n",
       "        0.49955553,  0.50045072,  0.49955553,  0.50045072,  0.49955553,\n",
       "        0.50045072,  0.49955553,  0.50045072,  0.49955553,  0.50045072,\n",
       "        0.49955553,  0.50045072,  0.49955553,  0.50045072,  0.49955553,\n",
       "        0.50045072,  0.49955553,  0.50045072,  0.49955553,  0.50045072,\n",
       "        0.49955553,  0.50045072,  0.49955553,  0.50045072,  0.49955553,\n",
       "        0.50045072,  0.49955553,  0.50045072,  0.49955553,  0.50045072,\n",
       "        0.49955553,  0.50045072,  0.49955553,  0.50045072,  0.49955553,\n",
       "        0.50045072,  0.49955553,  0.50045072,  0.49955553,  0.50045072,\n",
       "        0.49955553,  0.50045072,  0.49955553,  0.50045072,  0.49955553,\n",
       "        0.50045072,  0.49955553,  0.50045072,  0.49955553,  0.50045072,\n",
       "        0.49955553,  0.50045072,  0.49955553,  0.50045072,  0.49955553,\n",
       "        0.50045072,  0.49955553,  0.50045072,  0.49955553,  0.50045072,\n",
       "        0.49955553,  0.50045072,  0.49955553,  0.50045072,  0.49955553,\n",
       "        0.50045072,  0.49955553,  0.50045072,  0.49955553,  0.50045072,\n",
       "        0.49955553,  0.50045072,  0.49955553,  0.50045072,  0.49955553,\n",
       "        0.50045072,  0.49955553,  0.50045072,  0.49955553,  0.50045072,\n",
       "        0.49955553,  0.50045072,  0.49955553,  0.50045072,  0.49955553])"
      ]
     },
     "execution_count": 9,
     "metadata": {},
     "output_type": "execute_result"
    }
   ],
   "source": [
    "weights, record = train(X_train, y_train, 0.01, 500)\n",
    "ll = logLikelihood(X_train, y_train, record)\n",
    "ll"
   ]
  },
  {
   "cell_type": "code",
   "execution_count": null,
   "metadata": {},
   "outputs": [],
   "source": [
    "\n",
    "\n"
   ]
  },
  {
   "cell_type": "code",
   "execution_count": null,
   "metadata": {
    "collapsed": true
   },
   "outputs": [],
   "source": []
  },
  {
   "cell_type": "code",
   "execution_count": null,
   "metadata": {
    "collapsed": true
   },
   "outputs": [],
   "source": []
  }
 ],
 "metadata": {
  "kernelspec": {
   "display_name": "Python 3",
   "language": "python",
   "name": "python3"
  },
  "language_info": {
   "codemirror_mode": {
    "name": "ipython",
    "version": 3
   },
   "file_extension": ".py",
   "mimetype": "text/x-python",
   "name": "python",
   "nbconvert_exporter": "python",
   "pygments_lexer": "ipython3",
   "version": "3.6.2"
  }
 },
 "nbformat": 4,
 "nbformat_minor": 2
}
